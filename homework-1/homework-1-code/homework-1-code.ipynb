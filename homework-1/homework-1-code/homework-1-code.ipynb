{
 "cells": [
  {
   "cell_type": "markdown",
   "metadata": {},
   "source": [
    "# Convex Optimization HW 1\n",
    "\n",
    "Implemented in Python with cvxpy."
   ]
  },
  {
   "cell_type": "code",
   "execution_count": 54,
   "metadata": {},
   "outputs": [],
   "source": [
    "# dependencies\n",
    "\n",
    "import cvxpy as cp\n",
    "import numpy as np\n",
    "\n",
    "np.random.seed(42)"
   ]
  },
  {
   "cell_type": "code",
   "execution_count": 87,
   "metadata": {},
   "outputs": [
    {
     "name": "stdout",
     "output_type": "stream",
     "text": [
      "MSE with closed-form solution: 1.0966245103340921e-30\n"
     ]
    }
   ],
   "source": [
    "# least square (testing)\n",
    "\n",
    "# umm so the var names are taken from homework-1\n",
    "# and they are quite weird but meh\n",
    "\n",
    "dim = (17, 11)\n",
    "y = np.random.randn(dim[0])\n",
    "X = np.random.randn(*dim)\n",
    "b = cp.Variable(dim[1])\n",
    "\n",
    "objective = cp.Minimize(cp.sum_squares(y - X @ b))\n",
    "prob = cp.Problem(objective)\n",
    "\n",
    "opt = prob.solve()\n",
    "solution = b.value\n",
    "\n",
    "closed_form = np.linalg.inv(X.T @ X) @ X.T @ y\n",
    "\n",
    "print('MSE with closed-form solution:', np.sum((closed_form - solution) ** 2))"
   ]
  },
  {
   "cell_type": "code",
   "execution_count": null,
   "metadata": {},
   "outputs": [],
   "source": []
  }
 ],
 "metadata": {
  "kernelspec": {
   "display_name": "Python 3",
   "language": "python",
   "name": "python3"
  },
  "language_info": {
   "codemirror_mode": {
    "name": "ipython",
    "version": 3
   },
   "file_extension": ".py",
   "mimetype": "text/x-python",
   "name": "python",
   "nbconvert_exporter": "python",
   "pygments_lexer": "ipython3",
   "version": "3.7.7"
  }
 },
 "nbformat": 4,
 "nbformat_minor": 4
}
